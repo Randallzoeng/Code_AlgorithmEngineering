{
 "cells": [
  {
   "cell_type": "markdown",
   "metadata": {},
   "source": [
    "**https://machinelearningflashcards.com/**"
   ]
  },
  {
   "cell_type": "markdown",
   "metadata": {},
   "source": [
    "## Accuracy\n",
    "## AdaBoost\n",
    "## Adjusted R^2\n",
    "## Agglomerative Clustering"
   ]
  },
  {
   "cell_type": "code",
   "execution_count": 5,
   "metadata": {
    "collapsed": false
   },
   "outputs": [
    {
     "name": "stdout",
     "output_type": "stream",
     "text": [
      "0.5 \t 2\n"
     ]
    }
   ],
   "source": [
    "#accuracy\n",
    "import numpy as np\n",
    "from sklearn.metrics import accuracy_score\n",
    "y_pred = [0,2,1,3]\n",
    "y_true = [0,1,2,3]\n",
    "print(accuracy_score(y_true,y_pred),'\\t',accuracy_score(y_true,y_pred,normalize=False))"
   ]
  },
  {
   "cell_type": "code",
   "execution_count": null,
   "metadata": {
    "collapsed": true
   },
   "outputs": [],
   "source": [
    "#AdaBoost 自适应增强算法\n",
    "#https://cseweb.ucsd.edu/~yfreund/papers/IntroToBoosting.pdf\n",
    "#https://s3.cn-north-1.amazonaws.com.cn/static-documents/nd101/MLND+documents/schapire.pdf\n",
    "from sklearn.ensemble import AdaBoostClassifier\n",
    "model = AdaBoostClassifier()\n",
    "model.fit(x_train,y_train)\n",
    "model.predict(x_test)\n",
    "\n",
    "from sklearn.tree import DecisionTreeClassifier\n",
    "model = AdaBoostClassifier(\n",
    "                           base_estimator = DecisionTreeClassifier(max_depth=2), #若学习器使用的模型\n",
    "                           n_estimators = 4) #使用的弱学习器的最大数量"
   ]
  },
  {
   "cell_type": "markdown",
   "metadata": {},
   "source": [
    "`Adjusted R^2`\n",
    "\n",
    "$$\\hat{R}^2 = 1- \\frac{RSS/(n-d-1)}{TSS/(n-1)}$$\n",
    "\n",
    "$$RSS=\\sum_{i=1}^n (x_i-\\hat{x})^2$$\n",
    "\n",
    "$$TSS=\\sum_{i=1}^n (x_i-\\bar{x})^2$$\n",
    "\n",
    "$$R^2 = 1-\\frac{RSS}{TSS}$$"
   ]
  },
  {
   "cell_type": "code",
   "execution_count": 9,
   "metadata": {
    "collapsed": true
   },
   "outputs": [],
   "source": [
    "from sklearn.metrics import r2_score\n",
    "def adjusted_r2_score(y_true,y_pred):\n",
    "    n = len(X)\n",
    "    d = X.shape[1]\n",
    "    return 1- (1-r2_score(y_true,y_pred))*(n-1)/(n-d-1)"
   ]
  },
  {
   "cell_type": "code",
   "execution_count": null,
   "metadata": {
    "collapsed": true
   },
   "outputs": [],
   "source": [
    "#Agglomerative Clustering  （complete link clustering）\n",
    "#complete link actually looks at the farthest two points in the two clusters\n",
    "#全连接聚类法关注度是两个类中两点之间最远的距离（作为两类之间的最小距离）\n",
    "#全连接聚类法产生的类比较紧凑\n",
    "from sklearn import datasets, cluster\n",
    "X = datasets.load_iris().data[:10]\n",
    "cluster = cluster.AgglomerativeClustering(n_clusters=3,linkage='ward')\n",
    "#linkage=['ward','complete','average']\n",
    "labels = cluster.fit_predict(X)"
   ]
  },
  {
   "cell_type": "code",
   "execution_count": 14,
   "metadata": {
    "collapsed": false,
    "scrolled": true
   },
   "outputs": [
    {
     "data": {
      "text/plain": [
       "{'icoord': [[5.0, 5.0, 15.0, 15.0],\n",
       "  [45.0, 45.0, 55.0, 55.0],\n",
       "  [35.0, 35.0, 50.0, 50.0],\n",
       "  [25.0, 25.0, 42.5, 42.5],\n",
       "  [10.0, 10.0, 33.75, 33.75],\n",
       "  [85.0, 85.0, 95.0, 95.0],\n",
       "  [75.0, 75.0, 90.0, 90.0],\n",
       "  [65.0, 65.0, 82.5, 82.5],\n",
       "  [21.875, 21.875, 73.75, 73.75]],\n",
       " 'dcoord': [[0.0, 0.17320508075688784, 0.17320508075688784, 0.0],\n",
       "  [0.0, 0.24494897427831802, 0.24494897427831802, 0.0],\n",
       "  [0.0, 0.3162277660168378, 0.3162277660168378, 0.24494897427831802],\n",
       "  [0.0, 0.4999999999999998, 0.4999999999999998, 0.3162277660168378],\n",
       "  [0.17320508075688784,\n",
       "   0.5744562646538034,\n",
       "   0.5744562646538034,\n",
       "   0.4999999999999998],\n",
       "  [0.0, 0.1414213562373093, 0.1414213562373093, 0.0],\n",
       "  [0.0, 0.2160246899469288, 0.2160246899469288, 0.1414213562373093],\n",
       "  [0.0, 0.7799572637865063, 0.7799572637865063, 0.2160246899469288],\n",
       "  [0.5744562646538034,\n",
       "   1.450172403543799,\n",
       "   1.450172403543799,\n",
       "   0.7799572637865063]],\n",
       " 'ivl': ['1', '9', '8', '6', '2', '3', '5', '7', '0', '4'],\n",
       " 'leaves': [1, 9, 8, 6, 2, 3, 5, 7, 0, 4],\n",
       " 'color_list': ['g', 'g', 'g', 'g', 'g', 'r', 'r', 'r', 'b']}"
      ]
     },
     "execution_count": 14,
     "metadata": {},
     "output_type": "execute_result"
    },
    {
     "data": {
      "image/png": "[encoded data removed]",
      "text/plain": [
       "<Figure size 432x288 with 1 Axes>"
      ]
     },
     "metadata": {},
     "output_type": "display_data"
    }
   ],
   "source": [
    "#dendrogram\n",
    "from scipy.cluster.hierarchy import dendrogram, ward, single\n",
    "from sklearn import datasets\n",
    "import matplotlib.pyplot as plt\n",
    "%matplotlib inline\n",
    "X = datasets.load_iris().data[:10]\n",
    "linkage_matrix = ward(X)\n",
    "\n",
    "dendrogram(linkage_matrix)\n"
   ]
  },
  {
   "cell_type": "markdown",
   "metadata": {},
   "source": [
    "# AIC Akaike Information Criterion\n",
    "# Almost Everything\n",
    "# Alpha in Ridge Regression\n",
    "# Anscombe's Quartet"
   ]
  },
  {
   "cell_type": "markdown",
   "metadata": {},
   "source": [
    "`AIC`在特征选择是用于比较那个模型更好\n",
    "$$AIC = \\frac{1}{n*\\hat{σ}^2}*(RSS+2d\\hat{σ}^2)$$"
   ]
  },
  {
   "cell_type": "code",
   "execution_count": 5,
   "metadata": {
    "collapsed": true
   },
   "outputs": [],
   "source": [
    "#Anscombe's Quartet\n",
    "import seaborn as sns\n",
    "import pandas as pd\n",
    "anscombe = sns.load_dataset('anscombe')"
   ]
  },
  {
   "cell_type": "code",
   "execution_count": 6,
   "metadata": {
    "collapsed": false,
    "scrolled": true
   },
   "outputs": [
    {
     "data": {
      "text/html": [
       "<div>\n",
       "<style scoped>\n",
       "    .dataframe tbody tr th:only-of-type {\n",
       "        vertical-align: middle;\n",
       "    }\n",
       "\n",
       "    .dataframe tbody tr th {\n",
       "        vertical-align: top;\n",
       "    }\n",
       "\n",
       "    .dataframe thead th {\n",
       "        text-align: right;\n",
       "    }\n",
       "</style>\n",
       "<table border=\"1\" class=\"dataframe\">\n",
       "  <thead>\n",
       "    <tr style=\"text-align: right;\">\n",
       "      <th></th>\n",
       "      <th>dataset</th>\n",
       "      <th>I</th>\n",
       "      <th>II</th>\n",
       "      <th>III</th>\n",
       "      <th>IV</th>\n",
       "    </tr>\n",
       "  </thead>\n",
       "  <tbody>\n",
       "    <tr>\n",
       "      <th rowspan=\"8\" valign=\"top\">x</th>\n",
       "      <th>count</th>\n",
       "      <td>11.000000</td>\n",
       "      <td>11.000000</td>\n",
       "      <td>11.000000</td>\n",
       "      <td>11.000000</td>\n",
       "    </tr>\n",
       "    <tr>\n",
       "      <th>mean</th>\n",
       "      <td>9.000000</td>\n",
       "      <td>9.000000</td>\n",
       "      <td>9.000000</td>\n",
       "      <td>9.000000</td>\n",
       "    </tr>\n",
       "    <tr>\n",
       "      <th>std</th>\n",
       "      <td>3.316625</td>\n",
       "      <td>3.316625</td>\n",
       "      <td>3.316625</td>\n",
       "      <td>3.316625</td>\n",
       "    </tr>\n",
       "    <tr>\n",
       "      <th>min</th>\n",
       "      <td>4.000000</td>\n",
       "      <td>4.000000</td>\n",
       "      <td>4.000000</td>\n",
       "      <td>8.000000</td>\n",
       "    </tr>\n",
       "    <tr>\n",
       "      <th>25%</th>\n",
       "      <td>6.500000</td>\n",
       "      <td>6.500000</td>\n",
       "      <td>6.500000</td>\n",
       "      <td>8.000000</td>\n",
       "    </tr>\n",
       "    <tr>\n",
       "      <th>50%</th>\n",
       "      <td>9.000000</td>\n",
       "      <td>9.000000</td>\n",
       "      <td>9.000000</td>\n",
       "      <td>8.000000</td>\n",
       "    </tr>\n",
       "    <tr>\n",
       "      <th>75%</th>\n",
       "      <td>11.500000</td>\n",
       "      <td>11.500000</td>\n",
       "      <td>11.500000</td>\n",
       "      <td>8.000000</td>\n",
       "    </tr>\n",
       "    <tr>\n",
       "      <th>max</th>\n",
       "      <td>14.000000</td>\n",
       "      <td>14.000000</td>\n",
       "      <td>14.000000</td>\n",
       "      <td>19.000000</td>\n",
       "    </tr>\n",
       "    <tr>\n",
       "      <th rowspan=\"8\" valign=\"top\">y</th>\n",
       "      <th>count</th>\n",
       "      <td>11.000000</td>\n",
       "      <td>11.000000</td>\n",
       "      <td>11.000000</td>\n",
       "      <td>11.000000</td>\n",
       "    </tr>\n",
       "    <tr>\n",
       "      <th>mean</th>\n",
       "      <td>7.500909</td>\n",
       "      <td>7.500909</td>\n",
       "      <td>7.500000</td>\n",
       "      <td>7.500909</td>\n",
       "    </tr>\n",
       "    <tr>\n",
       "      <th>std</th>\n",
       "      <td>2.031568</td>\n",
       "      <td>2.031657</td>\n",
       "      <td>2.030424</td>\n",
       "      <td>2.030579</td>\n",
       "    </tr>\n",
       "    <tr>\n",
       "      <th>min</th>\n",
       "      <td>4.260000</td>\n",
       "      <td>3.100000</td>\n",
       "      <td>5.390000</td>\n",
       "      <td>5.250000</td>\n",
       "    </tr>\n",
       "    <tr>\n",
       "      <th>25%</th>\n",
       "      <td>6.315000</td>\n",
       "      <td>6.695000</td>\n",
       "      <td>6.250000</td>\n",
       "      <td>6.170000</td>\n",
       "    </tr>\n",
       "    <tr>\n",
       "      <th>50%</th>\n",
       "      <td>7.580000</td>\n",
       "      <td>8.140000</td>\n",
       "      <td>7.110000</td>\n",
       "      <td>7.040000</td>\n",
       "    </tr>\n",
       "    <tr>\n",
       "      <th>75%</th>\n",
       "      <td>8.570000</td>\n",
       "      <td>8.950000</td>\n",
       "      <td>7.980000</td>\n",
       "      <td>8.190000</td>\n",
       "    </tr>\n",
       "    <tr>\n",
       "      <th>max</th>\n",
       "      <td>10.840000</td>\n",
       "      <td>9.260000</td>\n",
       "      <td>12.740000</td>\n",
       "      <td>12.500000</td>\n",
       "    </tr>\n",
       "  </tbody>\n",
       "</table>\n",
       "</div>"
      ],
      "text/plain": [
       "dataset          I         II        III         IV\n",
       "x count  11.000000  11.000000  11.000000  11.000000\n",
       "  mean    9.000000   9.000000   9.000000   9.000000\n",
       "  std     3.316625   3.316625   3.316625   3.316625\n",
       "  min     4.000000   4.000000   4.000000   8.000000\n",
       "  25%     6.500000   6.500000   6.500000   8.000000\n",
       "  50%     9.000000   9.000000   9.000000   8.000000\n",
       "  75%    11.500000  11.500000  11.500000   8.000000\n",
       "  max    14.000000  14.000000  14.000000  19.000000\n",
       "y count  11.000000  11.000000  11.000000  11.000000\n",
       "  mean    7.500909   7.500909   7.500000   7.500909\n",
       "  std     2.031568   2.031657   2.030424   2.030579\n",
       "  min     4.260000   3.100000   5.390000   5.250000\n",
       "  25%     6.315000   6.695000   6.250000   6.170000\n",
       "  50%     7.580000   8.140000   7.110000   7.040000\n",
       "  75%     8.570000   8.950000   7.980000   8.190000\n",
       "  max    10.840000   9.260000  12.740000  12.500000"
      ]
     },
     "execution_count": 6,
     "metadata": {},
     "output_type": "execute_result"
    }
   ],
   "source": [
    "anscombe.groupby('dataset').describe().T"
   ]
  },
  {
   "cell_type": "code",
   "execution_count": 9,
   "metadata": {
    "collapsed": false,
    "scrolled": true
   },
   "outputs": [
    {
     "data": {
      "text/plain": [
       "<seaborn.axisgrid.FacetGrid at 0x1cebd9bcdd8>"
      ]
     },
     "execution_count": 9,
     "metadata": {},
     "output_type": "execute_result"
    },
    {
     "data": {
      "image/png": "[encoded data removed]",
      "text/plain": [
       "<Figure size 720x720 with 4 Axes>"
      ]
     },
     "metadata": {},
     "output_type": "display_data"
    }
   ],
   "source": [
    "# Show the results of a linear regression within each dataset\n",
    "sns.lmplot(x=\"x\", y=\"y\", col=\"dataset\", hue=\"dataset\", data=anscombe,col_wrap=2)"
   ]
  },
  {
   "cell_type": "markdown",
   "metadata": {},
   "source": [
    "`Alpha in Ridge Regression`\n",
    "- L1 Regularization (Lasso)\n",
    "it taks the coefficients and just adds the **absolute values**\n",
    "- L2 Regularizaion (Ridge)\n",
    "add the **squares** of the coeffiecients\n",
    "```python\n",
    "from sklearn.linear_model import Ridge\n",
    "ridge_reg = Ridge(alpha=1,solver=\"cholesky\")\n",
    "ridge_reg.fit(X,y)\n",
    "```\n",
    "\n",
    "- lambda 惩罚项系数 （即alpha）\n",
    "\n",
    "| L1 Regularization                                  | L2 Regularization         |\n",
    "|----------------------------------------------------|---------------------------|\n",
    "| Computationally Inefficient (unless data is spare) | Computationally Efficient |\n",
    "| Sparse Outputs                                     | Non-sparse Outpurs        |\n",
    "| Feature Selection                                  | No Feature Selection      |\n"
   ]
  },
  {
   "cell_type": "markdown",
   "metadata": {},
   "source": [
    "# Architecture of a Neual Network\n",
    "# AUC \n",
    "# Avoid Over-Fitting\n",
    "- Simple Models\n",
    "- Cross-Validated Evaluation\n",
    "- Regularization\n",
    "- Get more data\n",
    "- Ensemble Learning\n",
    "# Back-Prop\n",
    "> Back Propagation\n",
    "- Algorithm to send infomation backwards through a neural network\n",
    "- Computes the gradient of the loss function w/ respect to the parameters\n",
    "- Is not responsible for updating parameters which is done by optimization algorithms"
   ]
  },
  {
   "cell_type": "markdown",
   "metadata": {},
   "source": [
    "#AUC\n",
    "\n",
    "`真阳性比例：在所有阳性标记的点中，有多少点分类正确`\n",
    "$$TPR = \\frac{TP}{TP+FN} = \\frac{TP}{all + }$$\n",
    "`假阳性比例：在所有阴性点中，模型错误地认为有多少是阳性的`\n",
    "$$FPR = \\frac{FP}{TN + FP} = \\frac{FP}{all -}$$"
   ]
  },
  {
   "cell_type": "code",
   "execution_count": 5,
   "metadata": {
    "collapsed": false
   },
   "outputs": [
    {
     "data": {
      "text/plain": [
       "0.75"
      ]
     },
     "execution_count": 5,
     "metadata": {},
     "output_type": "execute_result"
    }
   ],
   "source": [
    "from sklearn.metrics import roc_auc_score\n",
    "import numpy as np\n",
    "y_true = np.array([0,0,1,1])\n",
    "y_scores = np.array([0.1,0.4,0.35,0.8])\n",
    "roc_auc_score(y_true,y_scores)"
   ]
  },
  {
   "cell_type": "code",
   "execution_count": 19,
   "metadata": {
    "collapsed": false
   },
   "outputs": [
    {
     "name": "stdout",
     "output_type": "stream",
     "text": [
      "[0.  0.5 0.5 1. ] \t [0.5 0.5 1.  1. ] \t [0.8  0.4  0.35 0.1 ]\n"
     ]
    }
   ],
   "source": [
    "from sklearn import metrics\n",
    "y_true = np.array([1, 1, 2, 2])\n",
    "y_scores = np.array([0.1, 0.4, 0.35, 0.8])\n",
    "fpr, tpr, thresholds = metrics.roc_curve(y_true, y_scores, pos_label=2)\n",
    "print(fpr,'\\t',tpr,'\\t',thresholds)"
   ]
  },
  {
   "cell_type": "code",
   "execution_count": 20,
   "metadata": {
    "collapsed": false,
    "scrolled": true
   },
   "outputs": [
    {
     "data": {
      "image/png": "[encoded data removed]",
      "text/plain": [
       "<Figure size 432x288 with 1 Axes>"
      ]
     },
     "metadata": {},
     "output_type": "display_data"
    }
   ],
   "source": [
    "%matplotlib inline\n",
    "import matplotlib.pyplot as plt\n",
    "def plot_roc_curve(fpr,tpr,label=None):\n",
    "        plt.plot(fpr,tpr,linewidth=2,label=label)\n",
    "        plt.plot([0,1],[0,1],'k--')\n",
    "        plt.axis([0,1,0,1])\n",
    "        plt.xlabel('False Positive Rate')\n",
    "        plt.ylabel('True Positive Rate')\n",
    "        \n",
    "plot_roc_curve(fpr,tpr)\n",
    "plt.show()"
   ]
  },
  {
   "cell_type": "markdown",
   "metadata": {},
   "source": [
    "# Bag of Words\n",
    "> 词袋：将文本转化为矩阵，其中，每一行都是一个观测值，每一特征都是一个独立的词。\n",
    "# Bagging (Bootstrap Aggregation)\n",
    "![](http://upload.ouliu.net/i/20190508114329lt7si.png)\n",
    "# Bagging vs. Dropout\n",
    "- Models:\n",
    "    - Bagging: all models are independent\n",
    "    - Dropout: subnetworks share parameters\n",
    "- Training:\n",
    "    - Bagging: all models are trained\n",
    "    - Dropout: only a fraction of possible subnetworks are trained\n",
    "# Deep Learning Basic Parts\n",
    "- Data\n",
    "- Loss function (cross-entropy)\n",
    "- Optimization algorithm (Adam)\n",
    "- Network Architecture (Dense Layers)\n",
    "- Test data\n",
    "- Evaluation metric (Accuracy)\n"
   ]
  },
  {
   "cell_type": "markdown",
   "metadata": {},
   "source": [
    "# Bayes Error\n",
    "# Bayes Theorem\n",
    "![](http://upload.ouliu.net/i/20190509110137ll1q9.png)\n",
    "# Pros & Cons of Bayesian Methods\n",
    "- 优点\n",
    "    - 在数据少的情况下表现不错\n",
    "    - 十分直观\n",
    "- 缺点\n",
    "    - 数据多是计算代价高\n",
    "    - 必须选择先验条件\n",
    "    \n",
    "# Bias"
   ]
  },
  {
   "cell_type": "markdown",
   "metadata": {},
   "source": [
    "# Bias-Variance Trade off\n",
    "# Big O\n",
    "> 如果不用太严谨的眼光看待大 O 标记，那么它其实是告诉你：随着输入数据量的增长，你的算法将花费多少时间。如果你有一个 O[N]（读作“N 阶”）复杂度的算法，该算法花费 1 秒钟来执行一个长度为 N = 1000 的列表，那么它执行一个长度为 N = 5000 的列表花费的时间大约是 5 秒钟。如果你有一个算法复杂度为 O[N^2]（读作“N 的平方阶”），且该算法花费 1 秒钟来执行一个长度为 N = 1000 的列表，那么它执行一个长度为 N = 5000 的列表花费的时间大约是 25 秒钟。\n",
    "# Boosting\n",
    "> 一种训练一些列若模型的集成学习策略，每个模型都会尝试正确预测先前模型预测错的观测值。\n",
    "![](http://upload.ouliu.net/i/2019051015371686k2j.png)\n",
    "# Bootstrap\n",
    "> Obtaining many new datasets by repeated sampling with replacement from the original dataset."
   ]
  },
  {
   "cell_type": "markdown",
   "metadata": {},
   "source": [
    "# Brierscore\n",
    "$$RSS=\\frac{1}{n}\\sum_{i=1}^n (\\hat{P}-O)^2$$\n",
    "布莱尔分数展现了所有观测值的预测概率和实际结果间的均方误差。越低越好\n",
    "# Inverse of Regularization Strength\n",
    "正则化强度α的倒数，一般使用C表示\n",
    "# Capacity\n",
    "机器学习算法的容量是他学习多种可能函数的能力，更高的容量意味着过拟合风险下更灵活的模型\n",
    "# Categorical Feature"
   ]
  },
  {
   "cell_type": "markdown",
   "metadata": {},
   "source": [
    "# Chain Rule of Calculus\n",
    "  微积分链式法则：用于有效地计算反向传播中的梯度。反向传播通常在张量上使用链式法则。\n",
    " $\\frac{dz}{dx}=\\frac{dz}{dy}*\\frac{dy}{dx}$\n",
    "# Chi-Squared for Feature Selection\n",
    "\n",
    "# Chi-Squared\n",
    "测试分类性数据和随机情况相比的不同程度\n",
    "# Classification"
   ]
  },
  {
   "cell_type": "code",
   "execution_count": 3,
   "metadata": {
    "collapsed": false
   },
   "outputs": [
    {
     "data": {
      "text/plain": [
       "array([[5.1, 3.5, 1.4, 0.2],\n",
       "       [4.9, 3. , 1.4, 0.2],\n",
       "       [4.7, 3.2, 1.3, 0.2],\n",
       "       [4.6, 3.1, 1.5, 0.2],\n",
       "       [5. , 3.6, 1.4, 0.2]])"
      ]
     },
     "execution_count": 3,
     "metadata": {},
     "output_type": "execute_result"
    }
   ],
   "source": [
    "#Chi-Squared for Feature Selection\n",
    "import sklearn\n",
    "from sklearn.feature_selection import SelectKBest\n",
    "from sklearn.feature_selection import chi2\n",
    "from sklearn.datasets import load_iris\n",
    "\n",
    "iris = load_iris()\n",
    "iris.data[0:5]"
   ]
  },
  {
   "cell_type": "code",
   "execution_count": 7,
   "metadata": {
    "collapsed": false
   },
   "outputs": [
    {
     "name": "stderr",
     "output_type": "stream",
     "text": [
      "/Users/randall/anaconda/lib/python3.6/site-packages/sklearn/utils/__init__.py:54: FutureWarning: Conversion of the second argument of issubdtype from `int` to `np.signedinteger` is deprecated. In future, it will be treated as `np.int64 == np.dtype(int).type`.\n",
      "  if np.issubdtype(mask.dtype, np.int):\n"
     ]
    },
    {
     "data": {
      "text/plain": [
       "array([[1.4, 0.2],\n",
       "       [1.4, 0.2],\n",
       "       [1.3, 0.2],\n",
       "       [1.5, 0.2],\n",
       "       [1.4, 0.2],\n",
       "       [1.7, 0.4],\n",
       "       [1.4, 0.3],\n",
       "       [1.5, 0.2],\n",
       "       [1.4, 0.2],\n",
       "       [1.5, 0.1],\n",
       "       [1.5, 0.2],\n",
       "       [1.6, 0.2],\n",
       "       [1.4, 0.1],\n",
       "       [1.1, 0.1],\n",
       "       [1.2, 0.2],\n",
       "       [1.5, 0.4],\n",
       "       [1.3, 0.4],\n",
       "       [1.4, 0.3],\n",
       "       [1.7, 0.3],\n",
       "       [1.5, 0.3],\n",
       "       [1.7, 0.2],\n",
       "       [1.5, 0.4],\n",
       "       [1. , 0.2],\n",
       "       [1.7, 0.5],\n",
       "       [1.9, 0.2],\n",
       "       [1.6, 0.2],\n",
       "       [1.6, 0.4],\n",
       "       [1.5, 0.2],\n",
       "       [1.4, 0.2],\n",
       "       [1.6, 0.2],\n",
       "       [1.6, 0.2],\n",
       "       [1.5, 0.4],\n",
       "       [1.5, 0.1],\n",
       "       [1.4, 0.2],\n",
       "       [1.5, 0.1],\n",
       "       [1.2, 0.2],\n",
       "       [1.3, 0.2],\n",
       "       [1.5, 0.1],\n",
       "       [1.3, 0.2],\n",
       "       [1.5, 0.2],\n",
       "       [1.3, 0.3],\n",
       "       [1.3, 0.3],\n",
       "       [1.3, 0.2],\n",
       "       [1.6, 0.6],\n",
       "       [1.9, 0.4],\n",
       "       [1.4, 0.3],\n",
       "       [1.6, 0.2],\n",
       "       [1.4, 0.2],\n",
       "       [1.5, 0.2],\n",
       "       [1.4, 0.2],\n",
       "       [4.7, 1.4],\n",
       "       [4.5, 1.5],\n",
       "       [4.9, 1.5],\n",
       "       [4. , 1.3],\n",
       "       [4.6, 1.5],\n",
       "       [4.5, 1.3],\n",
       "       [4.7, 1.6],\n",
       "       [3.3, 1. ],\n",
       "       [4.6, 1.3],\n",
       "       [3.9, 1.4],\n",
       "       [3.5, 1. ],\n",
       "       [4.2, 1.5],\n",
       "       [4. , 1. ],\n",
       "       [4.7, 1.4],\n",
       "       [3.6, 1.3],\n",
       "       [4.4, 1.4],\n",
       "       [4.5, 1.5],\n",
       "       [4.1, 1. ],\n",
       "       [4.5, 1.5],\n",
       "       [3.9, 1.1],\n",
       "       [4.8, 1.8],\n",
       "       [4. , 1.3],\n",
       "       [4.9, 1.5],\n",
       "       [4.7, 1.2],\n",
       "       [4.3, 1.3],\n",
       "       [4.4, 1.4],\n",
       "       [4.8, 1.4],\n",
       "       [5. , 1.7],\n",
       "       [4.5, 1.5],\n",
       "       [3.5, 1. ],\n",
       "       [3.8, 1.1],\n",
       "       [3.7, 1. ],\n",
       "       [3.9, 1.2],\n",
       "       [5.1, 1.6],\n",
       "       [4.5, 1.5],\n",
       "       [4.5, 1.6],\n",
       "       [4.7, 1.5],\n",
       "       [4.4, 1.3],\n",
       "       [4.1, 1.3],\n",
       "       [4. , 1.3],\n",
       "       [4.4, 1.2],\n",
       "       [4.6, 1.4],\n",
       "       [4. , 1.2],\n",
       "       [3.3, 1. ],\n",
       "       [4.2, 1.3],\n",
       "       [4.2, 1.2],\n",
       "       [4.2, 1.3],\n",
       "       [4.3, 1.3],\n",
       "       [3. , 1.1],\n",
       "       [4.1, 1.3],\n",
       "       [6. , 2.5],\n",
       "       [5.1, 1.9],\n",
       "       [5.9, 2.1],\n",
       "       [5.6, 1.8],\n",
       "       [5.8, 2.2],\n",
       "       [6.6, 2.1],\n",
       "       [4.5, 1.7],\n",
       "       [6.3, 1.8],\n",
       "       [5.8, 1.8],\n",
       "       [6.1, 2.5],\n",
       "       [5.1, 2. ],\n",
       "       [5.3, 1.9],\n",
       "       [5.5, 2.1],\n",
       "       [5. , 2. ],\n",
       "       [5.1, 2.4],\n",
       "       [5.3, 2.3],\n",
       "       [5.5, 1.8],\n",
       "       [6.7, 2.2],\n",
       "       [6.9, 2.3],\n",
       "       [5. , 1.5],\n",
       "       [5.7, 2.3],\n",
       "       [4.9, 2. ],\n",
       "       [6.7, 2. ],\n",
       "       [4.9, 1.8],\n",
       "       [5.7, 2.1],\n",
       "       [6. , 1.8],\n",
       "       [4.8, 1.8],\n",
       "       [4.9, 1.8],\n",
       "       [5.6, 2.1],\n",
       "       [5.8, 1.6],\n",
       "       [6.1, 1.9],\n",
       "       [6.4, 2. ],\n",
       "       [5.6, 2.2],\n",
       "       [5.1, 1.5],\n",
       "       [5.6, 1.4],\n",
       "       [6.1, 2.3],\n",
       "       [5.6, 2.4],\n",
       "       [5.5, 1.8],\n",
       "       [4.8, 1.8],\n",
       "       [5.4, 2.1],\n",
       "       [5.6, 2.4],\n",
       "       [5.1, 2.3],\n",
       "       [5.1, 1.9],\n",
       "       [5.9, 2.3],\n",
       "       [5.7, 2.5],\n",
       "       [5.2, 2.3],\n",
       "       [5. , 1.9],\n",
       "       [5.2, 2. ],\n",
       "       [5.4, 2.3],\n",
       "       [5.1, 1.8]])"
      ]
     },
     "execution_count": 7,
     "metadata": {},
     "output_type": "execute_result"
    }
   ],
   "source": [
    "mdl1 = SelectKBest(chi2,k=2)\n",
    "mdl1.fit_transform(iris.data,iris.target)"
   ]
  },
  {
   "cell_type": "code",
   "execution_count": 8,
   "metadata": {
    "collapsed": false
   },
   "outputs": [
    {
     "data": {
      "text/plain": [
       "array([-0.04552349,  0.11575417, -0.05      , -0.05      ])"
      ]
     },
     "execution_count": 8,
     "metadata": {},
     "output_type": "execute_result"
    }
   ],
   "source": [
    "#https://scikit-learn.org/stable/modules/generated/sklearn.feature_selection.SelectKBest.html\n",
    "mdl1.pvalues_ - 0.05"
   ]
  },
  {
   "cell_type": "markdown",
   "metadata": {},
   "source": [
    "# Combination\n",
    "# Common Optimizers for Neural Nets\n",
    "1. Stocastic Gradient Desent\n",
    "2. Stocastic Gradient Desent with Momentum 动量随机梯度下降\n",
    "3. RMS Prop 均方根传播\n",
    "4. Adam 自适应矩估计\n",
    "\n",
    "# Common Output Layers Activation Functions\n",
    "激活函数常见输出层\n",
    "1. 二分类 Sigmod\n",
    "2. 多分类 Softmax\n",
    "3. 回归 **无激活函数**\n",
    "\n",
    "# Concave & Convex\n",
    "举例：Convex 凸函数\n",
    "$$y=x^2$$"
   ]
  },
  {
   "cell_type": "markdown",
   "metadata": {},
   "source": [
    "# Conditional Probability\n",
    "# Conditioning\n",
    "> 调节能力用于衡量当函数的输入发生变化时，函数输出的变化程度。\n",
    "\n",
    "# Confidence Intervals\n",
    "> 95%的置信度意味着，如果我们执行相同的实验100次，其中95次置信区间会包括真额参数值\n",
    "\n",
    "# Confusion Matrix\n",
    "# Consistency of Model\n",
    "> 随着观测值的数量接近无限，预测值与真实值之差大于定制的概率趋近于0\n",
    "\n",
    "# Cost & Loss Function"
   ]
  },
  {
   "cell_type": "markdown",
   "metadata": {},
   "source": [
    "# Mallows $ C_p$\n",
    "$C_p = \\frac{1}{n} * (RSS + 2d\\hat{σ}^2)$\n",
    "- n: number of observations\n",
    "- RSS: Residual Sum of Squares\n",
    "- d: Number of features\n",
    "- σ: Estimated error varance\n",
    "\n",
    "# Cross-Entropy\n",
    "交叉熵：越大越不纯\n",
    "# CDF\n",
    "$$f(x) = P_r[X<=y]$$\n",
    "累计分布函数说明随机变量的值小于某一特定值的概率\n",
    "# Curse of Dimensionality\n",
    "维度灾难：随着特征空间维度增加，算数配置指数型增长，因此被一个观测值覆盖的配置数量下降\n",
    "# Data-Generation Distribution\n",
    "数据生成分布\n",
    "# Dataset Augmentation\n",
    "`数据集增强`\n",
    "- 通常用于图像识别\n",
    "- 通过旋转、缩放、移动等在计算机视觉问题中制造图像噪声。\n",
    "- 能大量减少泛化误差"
   ]
  },
  {
   "cell_type": "markdown",
   "metadata": {},
   "source": [
    "# DBSCAN\n",
    "`Density-Based Clustering`\n",
    "Density-based spatial clustering of applications with noise (具有噪声的基于密度的空间聚类)\n",
    "它把那些分布相对密集，距离较近的点聚到一起，其与K-means等聚类算法的最大差异在于：不是所有的点都是类的一部分。DBSCAN把这些点标记为噪声。这也说明DBSCAN在处理具有噪声的数据集方面作用非常大。\n",
    "\n",
    "https://www.naftaliharris.com/blog/visualizing-dbscan-clustering/\n",
    "# Decision Boundary\n",
    "# Decision Tree Regression\n",
    "> 与决策树分类相似，但使用了均方误差或相似的度量方法来替代交叉熵或基尼不纯度，以决定分割点。\n",
    "# Decision Tree \n",
    "> 具备强解释性，在能提供最高信息增益的特征点进行分离。\n",
    "# Derivative\n",
    "# Design Matrix (aka. Feature Matrix)"
   ]
  },
  {
   "cell_type": "markdown",
   "metadata": {},
   "source": [
    "# Determinates\n",
    "# Does K-NN learn\n",
    "> K-nearest neighor does not 'learn'. Per-se. It's lazy and just memorizes the data."
   ]
  },
  {
   "cell_type": "markdown",
   "metadata": {},
   "source": [
    "# Dot Product\n",
    "# Downsampling\n",
    "> 下采样：创建一个和小类别相同大小的大类别随机子集。\n",
    "\n",
    "# Dropout\n",
    "> 丢包：用共享参数训练子网络集成。集成中包括所有的子网络。\n",
    "\n",
    "# Early Stopping Advantages\n",
    "- 无需改变网络架构或训练方法；\n",
    "- 在最优点自动停止而不需要像权重衰减weight decay那样调节\n",
    "\n",
    "# Early Stopping\n",
    "> 当验证损失增加时，神经网络训练停止。\n",
    "\n",
    "# The Effect of ONE-HOT on Feature Importance\n",
    "> 在随机森林中，我们可以衡量每个特征的重要性，然而，如果我们将类别变量进行独热编码，特征的重要性就会分布在在每一个独热特征"
   ]
  },
  {
   "cell_type": "markdown",
   "metadata": {},
   "source": [
    "# EigenVector\n",
    "> 特征向量\n",
    "\n",
    "# Elastic Net\n",
    "> 弹性网，一种混合L1，L2正则化的线性回归模型\n",
    "\n",
    "# ELUs Exponetial Linear Units\n",
    "![](http://upload.ouliu.net/i/201905240922341oan6.png)\n",
    "# Encoding Ordinal Categorical Features\n",
    "# Ensemble Methods\n",
    "> When several models are trained separately then vote or are averaged to produce a predict.\n",
    "\n",
    "# Epoch\n",
    "> In artifical neural networks, each time all obs have been sent through the network is called an epoch."
   ]
  },
  {
   "cell_type": "markdown",
   "metadata": {},
   "source": [
    "# Error Type\n",
    "# ESS Explained Sum of Squares\n",
    "$$ESS=\\sum_{i=1}^n (\\hat{y_i}-\\bar{y})^2$$\n",
    "# Exploding Gradient Problem\n",
    "# Extrema\n",
    "# F1 Score\n",
    "\n",
    "$$F_1 = 2*\\frac{Precision*Recall}{Precision+Recall}$$\n",
    "# False Positive Rate"
   ]
  },
  {
   "cell_type": "markdown",
   "metadata": {},
   "source": [
    "# Feature Importance\n",
    "> DT make splits that maximize the decrease in impurity. By calculating the mean decrease in impurity for each feature across all trees, we can know that feature's importance.\n",
    "\n",
    "# Fearure Selection Strategies\n",
    "- 移除高相关性变量\n",
    "- 执行OLS，选出显著特征\n",
    "- 向前选择法或逆向选择法\n",
    "- 随机森林特征重要性\n",
    "- Lasso\n",
    "\n",
    "# Feedforward NN\n",
    "> 前馈神经网络：aka.多层感知器,因信息要从输入移至输出得名\n",
    "\n",
    "# Linear Regresson Finding Parameters\n",
    "\n",
    "# Forward Selection\n",
    "`伪算法`：\n",
    "- 创建一个没有特征的模型m0\n",
    "- 对于k=0 ... f-1\n",
    "    - 创建一个将某一特征假如到已知模型的模型\n",
    "    - 对所有伪使用的特征重复该动作\n",
    "    - 选择最佳评估结果的模型\n",
    "- 用交叉验证从m0到mf选择最佳模型\n",
    "\n",
    "# Fowlkes-Mallows Score\n",
    "> 当真实标签已知时，用来评估聚类。\n",
    "\n",
    "$$FMI = \\frac{TP}{\\sqrt{TP+FP)(TP+FN)}}$$"
   ]
  },
  {
   "cell_type": "markdown",
   "metadata": {},
   "source": [
    "# Frobenius Norm \n",
    "弗罗贝尼乌斯范数 衡量矩阵的大小\n",
    "# F-Statistic\n",
    "用于F-test, 测试一组特征是否具体联合统计显著性。\n",
    "$$F = \\frac{(TSS+RSS)/P}{RSS/(N-P-1)}$$\n",
    "\n",
    "$$TSS=\\sum_{i=1}^n (y_i-\\bar{y})^2$$\n",
    "\n",
    "$$RSS=\\sum_{i=1}^n (y_i-\\hat{y})^2$$\n",
    "\n",
    "- P: Number of Features\n",
    "- N: Number of Observations\n",
    "\n",
    "# Function\n",
    "# Gaussian Naive Bayes Classifier\n",
    "$$P(Class|data) = \\frac{P(data|class)*P(class)}{P(data)}$$\n",
    "# Generalization\n",
    "# GINI Index\n",
    "$$G = \\sum_{k=1}^k\\hat{P_mk}*(1-\\hat{P_mk})$$\n",
    "- 在每个节点上使用，用于决定哪个特征是最佳分离点\n",
    "- G越小；节点越纯粹\n",
    "- 在以树为基础的方法上用于衡量纯粹度"
   ]
  },
  {
   "cell_type": "markdown",
   "metadata": {},
   "source": [
    "# Grabcut\n",
    "# Gradient Cliff\n",
    "> 梯度悬崖：指损失函数中的急剧下降，会引起优化算法在极小值迭代过度\n",
    "\n",
    "# Gradient Clipping\n",
    "> 梯度截断\n",
    "\n",
    "# Gradient Descent\n",
    "![](http://upload.ouliu.net/i/201905281207455fpc2.png)\n",
    "\n",
    "# Gradient Descent Rule of Thumb\n",
    "> 梯度下降经验法则：如果特征不成比例的话，梯度下降花费的时间更长。\n",
    "# Gradient Descent 2"
   ]
  },
  {
   "cell_type": "markdown",
   "metadata": {},
   "source": [
    "# Gradient\n",
    "> 梯度：函数的梯度，是在X点包含所有此点偏微分的矢量\n",
    "\n",
    "# Greedy Algorithms\n",
    "> 只优化下一个最近的决策\n",
    "\n",
    "`eg.`我们被委派完成尽可能便宜地飞10个城市的任务，贪心策略就是当我们降落机场时，只买最便宜的机票\n",
    "\n",
    "# Greek1\n",
    "# Greek2\n",
    "# Greek3\n",
    "# Greek4"
   ]
  },
  {
   "cell_type": "markdown",
   "metadata": {},
   "source": [
    "# Gird Search\n",
    "# Hadamard Product\n",
    "> 两个矩阵的元素乘积\n",
    "\n",
    "# Hamming Loss\n",
    "```python\n",
    "#computing hammingLoss\n",
    "def HammingLossClass(preLabels,test_targets):\n",
    "    num_class,num_instance = np.mat(test_targets).shape\n",
    "    temp = sum((preLabels != test_targets))\n",
    "    miss_pairs = sum(temp)\n",
    "    hammingLoss = miss_pairs/(num_class*num_instance)\n",
    "    return hammingLoss\n",
    "\n",
    "```\n",
    "\n",
    "# Handling Imbalance in SVM\n",
    "> 在SVM中，超参数C决定了误分类的惩罚。为解决不平衡类；可以按类调整C的权重\n",
    "\n",
    "# Handling Outliners\n",
    "- if due to an error: \n",
    "    - drop\n",
    "    - mark as missing value\n",
    "    - mark as possible error\n",
    "- if legitmate but extreme value: decide if it is a genuinely a member of the population we are try to address with our model.\n",
    "\n",
    "# Hessian Matrix"
   ]
  },
  {
   "cell_type": "markdown",
   "metadata": {},
   "source": [
    "# Heteroskedasticity\n",
    "> In statistics, a collection of random variables is heteroscedastic if there are sub-populations that have different variabilities from others.\n",
    "\n",
    "# Hidden Layer\n",
    "# Hinge Loss\n",
    "# How Norm Penalties Work\n",
    "- L1 & L2 norm penalties shrink parameters toward zero\n",
    "- The benifit comes from less variance in parameter values, not necessarily small values\n",
    "- Zero is typically used because it is neither positive or negative\n",
    "\n",
    "# How to chooes hidden unit activation function\n",
    "`如何选择隐藏单元的激活函数`\n",
    "- 并没有已实证的最佳选择\n",
    "- 需要由模型在验证集上的表现决定\n",
    "- ReLU 激活函数是首选\n",
    "\n",
    "# Hyperparameter Tuning"
   ]
  },
  {
   "cell_type": "markdown",
   "metadata": {},
   "source": [
    "# Hyperplane\n",
    "# Hypothesis Space\n",
    "> 假设空间：指模型可能用来最小化损失的所有函数；如线性核的SVM只能用线性函数决定决策边界；\n",
    "\n",
    "# IID Independent and Identically distributed\n",
    "> 独立同分布\n",
    "\n",
    "# Imputation Using K-NN\n",
    "# Imputation\n",
    "- 如果是定量值：用均值代替\n",
    "- 如果是定性值：用众数代替\n",
    "- 使用模型预测缺失值：KNN\n",
    "\n",
    "# Inflection Point\n",
    "> 拐点：函数上由凸变凹或者由凹变凸的点"
   ]
  },
  {
   "cell_type": "markdown",
   "metadata": {},
   "source": [
    "# Initializatio of NN parameters\n",
    "`神经网络初始化`\n",
    "- 参数常常初始化为从正态分布中随机抽取的值\n",
    "- 参数初始化的比例太大太小都不好\n",
    "- 比例scale的一个选择为：使其服从均匀分布\n",
    "\n",
    "# Initializing Weights in Feedforward Neural Networks\n",
    "`前馈神经网络权重初始化`\n",
    "- 使用小的随机数\n",
    "- 通常从正态分布中取得初始权重\n",
    "- 偏差初始化为0或小的正数\n",
    "\n",
    "# Instrumental Variables\n",
    "`Endogeneity 内生性`： \n",
    "In a statistical model, a parameter or variable is said to be endogenous when there is a correlation between the parameter or variable and the error term.\n",
    "\n",
    "> 通过使用**降雨**替代**抗议规模**，我们就能够解决内生性问题。因为，如果降雨和政策变化无关，而和抗议规模相关，那么任何降雨和政策变化间的关系变动就必须要来自于抗议规模。\n",
    "\n",
    "# Interaction Term\n",
    " \n",
    "# Intercept Term\n",
    "\n",
    "# Interpolation\n",
    "> 内插法：指通过在已知点间画直线，来填补缺失值的方法。\n"
   ]
  },
  {
   "cell_type": "markdown",
   "metadata": {},
   "source": [
    "# IQR Interqurtile Range\n",
    "# Issues with Platt Scaling\n",
    "> In machine learning, Platt scaling or Platt calibration is a way of transforming the outputs of a classification model into a probability distribution over classes.\n",
    "\n",
    "# Jacobian Matrix\n",
    "> 当函数的输入，输出都是向量时，所有包括一阶导数的矩阵都被称为Jacobian矩阵\n",
    "\n",
    "# Joins\n",
    "# Kernel PCA\n",
    "- 线性PCA能够减小维度，但不会使数据线性可分\n",
    "- KPCA既能减小维度，也能使数据线性可分\n",
    "\n",
    "# Kernel Trick\n",
    "> 能够处理非线性决策边界"
   ]
  },
  {
   "cell_type": "markdown",
   "metadata": {},
   "source": [
    "# K-Fold CV\n",
    "# K-Mean Clustering\n",
    "- 随机初始化k个中心点；\n",
    "- 观测值被分配到最近的中心点所属聚类\n",
    "- 中心点被转移到聚类中心\n",
    "- 重复2,3知道步骤2中没有观测值更改所属聚类\n",
    "\n",
    "# K-NN\n",
    "# K-NN Tips & Tricks\n",
    "- all features should be the same scale\n",
    "- K should be odd to avoid ties\n",
    "- Votes can be weighted by the disance to the neighbor so closer observatons votes are worth more\n",
    "- Try a variety of distance measurement"
   ]
  },
  {
   "cell_type": "markdown",
   "metadata": {},
   "source": [
    "# KNN neighborhood size\n",
    "- Small K: low bias; high variance ???\n",
    "- Large K: high bias; low variance\n",
    "\n",
    "# L1 Norm (Lasso Reg.)\n",
    "# L2 Norm (Ridge Reg.)\n",
    "# Lasso For Feature Selection\n",
    "![](http://upload.ouliu.net/i/20190604091114yv2qv.png)\n",
    "# Leaky ReLU\n",
    "> 渗漏整流线性单元\n",
    "\n",
    "# Learning Curve"
   ]
  },
  {
   "cell_type": "markdown",
   "metadata": {},
   "source": [
    "# What does it mean to learn in machine learning\n",
    "# Learning Rate\n",
    "- Too large: Overshoots loss function (迭代过度)\n",
    "- Too small: Slow convergence\n",
    "\n",
    "# Linear Activation Function\n",
    "# Linear Combination of a set of vectors\n",
    "# LDA for Dimensionality Reduction\n",
    "# Linearly Independent\n",
    "> 线性独立：如果矩阵里没有一个向量能由其他向量线性组合表示出来，这个矩阵就是线性独立的。\n",
    "\n",
    "![](http://upload.ouliu.net/i/201906061010156fsez.jpeg)"
   ]
  },
  {
   "cell_type": "markdown",
   "metadata": {},
   "source": [
    "# Linearly Separable\n",
    "# Logistic Regression\n",
    "# Logistic Reg. vs Linear Reg.\n",
    "# Logistic Sigmoid Function\n",
    "$$\\sigma(x) = \\frac{1}{1+e^(-x)}$$\n",
    "\n",
    "# Log-Sum-Exp\n",
    "# Mamhattan Distance"
   ]
  },
  {
   "cell_type": "markdown",
   "metadata": {},
   "source": [
    "# Matrices\n",
    "# Matrix Inverse\n",
    "# Matrix Multiplication\n",
    "# Matthews Correlation Coefficient\n",
    "`Matthews相关系数` 范围从-1完全错误的分类器到完全正确的分类器\n",
    "![](http://upload.ouliu.net/i/20190607074624jkbnt.png)\n",
    "\n",
    "# Max Norm\n",
    "范数最大化：The element of the vector with the largest absolute value.\n",
    "# MAE Mean Absolute Error"
   ]
  },
  {
   "cell_type": "markdown",
   "metadata": {},
   "source": [
    "# MSE Mean Squared Error\n",
    "# Meanshift Clustering\n",
    "# Mini Batch\n",
    "- 从数据集中非重复抽样\n",
    "- 在在随机梯度中用高效计算的方式来估计梯度\n",
    "- 通常范围在1-几百个观测值\n",
    "\n",
    "# Minimum of a loss function\n",
    "# Minkowski Distance\n",
    "- C=1 Minkowski turns to Manhattan distance\n",
    "- C=2 Minkowski turns to Euclidean distance\n",
    "\n",
    "![](http://upload.ouliu.net/i/20190608104116ii960.png)\n",
    "# MinMax scaling\n",
    "![](http://upload.ouliu.net/i/201906081042033adp2.png)"
   ]
  },
  {
   "cell_type": "markdown",
   "metadata": {},
   "source": [
    "# Missing at Random\n",
    "# Missing Completely at Random\n",
    "# Missing Not at Random\n",
    "# Model Complexity\n",
    "# Model Identifiability\n",
    "# Model Selection"
   ]
  },
  {
   "cell_type": "markdown",
   "metadata": {},
   "source": [
    "# Momentum\n",
    "# Motivation for deep layers\n",
    "# Motivation for deep learning\n",
    "> 当我们有着结构良好的特征数据，如SVM等的浅层学习算法就很有用，但是，他们常常在高维空间中表现贫乏，如计算机视觉和NLP。\n",
    "\n",
    "# Multinomial Logistic Regression\n",
    "# Natural Log\n",
    "# Neuron\n",
    "> 输入和权重相乘，与偏差相加，然后由激活函数转换到输出。"
   ]
  },
  {
   "cell_type": "markdown",
   "metadata": {},
   "source": [
    "# No Free Lunch Theorem\n",
    "> There is no one best machine learning algorithm.\n",
    "\n",
    "# Noisy RELU\n",
    "> 和RULU相似，但增加了高斯噪声\n",
    "\n",
    "# Non-Parametric Metods\n",
    "\n",
    "# Normal Distribution\n",
    "![](http://upload.ouliu.net/i/20190611091417hmwe9.png)\n",
    "\n",
    "# Normalized Initialization of NN Parameters\n",
    "\n",
    "# Normalizing Observations"
   ]
  },
  {
   "cell_type": "markdown",
   "metadata": {},
   "source": [
    "# Notation 1\n",
    "# Notation 2\n",
    "# Notation 3\n",
    "# Notation 4\n",
    "# Notation 5\n",
    "argminf(x) : Value of x that minimized f(x)\n",
    "# Notions of Probability\n",
    "- Frequentist: The rate at which an event will accure if we repeat the experiment;\n",
    "- Bayesian: The degree of belief that sth is true"
   ]
  },
  {
   "cell_type": "markdown",
   "metadata": {},
   "source": [
    "# Occam's Razor\n",
    "`奥卡姆剃刀定律` 当多个假设都能很好的解释某事，我们倾向最简单的那一个。\n",
    "# Odds\n",
    "几率，是某时间出现的概率和不出现的概率比\n",
    "# Odds Ratio\n",
    "![](http://upload.ouliu.net/i/20190612093447jacif.png)\n",
    "# One-Hot Encoding\n"
   ]
  }
 ],
 "metadata": {
  "anaconda-cloud": {},
  "kernelspec": {
   "display_name": "Python [default]",
   "language": "python",
   "name": "python3"
  },
  "language_info": {
   "codemirror_mode": {
    "name": "ipython",
    "version": 3
   },
   "file_extension": ".py",
   "mimetype": "text/x-python",
   "name": "python",
   "nbconvert_exporter": "python",
   "pygments_lexer": "ipython3",
   "version": "3.5.2"
  },
  "latex_envs": {
   "LaTeX_envs_menu_present": true,
   "autoclose": false,
   "autocomplete": true,
   "bibliofile": "biblio.bib",
   "cite_by": "apalike",
   "current_citInitial": 1,
   "eqLabelWithNumbers": true,
   "eqNumInitial": 1,
   "hotkeys": {
    "equation": "Ctrl-E",
    "itemize": "Ctrl-I"
   },
   "labels_anchors": false,
   "latex_user_defs": false,
   "report_style_numbering": false,
   "user_envs_cfg": false
  },
  "toc": {
   "base_numbering": 1,
   "nav_menu": {},
   "number_sections": true,
   "sideBar": true,
   "skip_h1_title": false,
   "title_cell": "Table of Contents",
   "title_sidebar": "Contents",
   "toc_cell": false,
   "toc_position": {},
   "toc_section_display": true,
   "toc_window_display": false
  }
 },
 "nbformat": 4,
 "nbformat_minor": 2
}
