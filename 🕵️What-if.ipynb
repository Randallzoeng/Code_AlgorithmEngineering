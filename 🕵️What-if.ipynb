{
 "cells": [
  {
   "cell_type": "markdown",
   "metadata": {},
   "source": [
    "# Forked from [xueyigehe/prediction-competition](https://github.com/xueyigehe/prediction-competition)"
   ]
  },
  {
   "cell_type": "markdown",
   "metadata": {},
   "source": [
    "[分享 | 游戏玩家付费金额预测大赛Top5](https://mp.weixin.qq.com/s/u5k4hkBNyTEo3S5LhsksNg)"
   ]
  },
  {
   "cell_type": "code",
   "execution_count": 3,
   "metadata": {},
   "outputs": [],
   "source": [
    "import os,sys\n",
    "os.chdir('D:\\\\Projects\\\\BrutalAge\\\\data')"
   ]
  },
  {
   "cell_type": "code",
   "execution_count": 4,
   "metadata": {},
   "outputs": [],
   "source": [
    "import pandas as pd\n",
    "import numpy as np\n",
    "import copy\n",
    "from sklearn.linear_model import Lasso,LinearRegression,LassoCV\n",
    "from sklearn.linear_model.stochastic_gradient import SGDRegressor\n",
    "from sklearn.ensemble import GradientBoostingRegressor\n",
    "from sklearn.ensemble import RandomForestRegressor\n",
    "from sklearn.svm import SVR\n",
    "from sklearn.model_selection import train_test_split\n",
    "from sklearn.metrics import mean_squared_error,r2_score\n",
    "from sklearn.externals import joblib\n",
    "from sklearn.preprocessing import StandardScaler,MinMaxScaler,Normalizer,scale,MaxAbsScaler"
   ]
  },
  {
   "cell_type": "code",
   "execution_count": 27,
   "metadata": {},
   "outputs": [
    {
     "data": {
      "text/plain": [
       "(275717, 109)"
      ]
     },
     "execution_count": 27,
     "metadata": {},
     "output_type": "execute_result"
    }
   ],
   "source": [
    "data = pd.read_csv('tap_fun_train.csv',parse_dates=True)\n",
    "data_train = copy.copy(data[data['avg_online_minutes'] >=12])\n",
    "data_train.shape"
   ]
  },
  {
   "cell_type": "code",
   "execution_count": 28,
   "metadata": {},
   "outputs": [],
   "source": [
    "data_train = data_train.drop(['user_id','register_time'],axis=1)\n",
    "\n",
    "x_train  = data_train.loc[:,data_train.columns != 'prediction_pay_price']\n",
    "y_train = data_train.loc[:,data_train.columns=='prediction_pay_price']"
   ]
  },
  {
   "cell_type": "code",
   "execution_count": 29,
   "metadata": {
    "scrolled": true
   },
   "outputs": [
    {
     "name": "stdout",
     "output_type": "stream",
     "text": [
      "106\n",
      "[ 6.20417558e-07  5.26177183e-06 -9.01406414e-07  2.58730669e-06\n",
      "  1.26297380e-05 -1.98281769e-05 -6.20828489e-07  3.81479221e-07\n",
      "  8.88581620e-07 -1.90037145e-06 -4.27988000e-03  6.40414395e-03\n",
      "  1.55859797e-02 -1.18105184e-02 -7.69854644e-03  8.60990278e-03\n",
      " -5.50771528e-03  3.79048587e-03 -2.52490882e-03 -2.31504390e-03\n",
      "  5.66069890e-04 -2.01501130e-03 -2.87705839e-03  4.14728745e-04\n",
      "  4.31926627e-04 -9.08751381e-03 -3.67890418e-03  2.78464638e-03\n",
      "  9.38689525e-03 -1.09772506e-02  1.09366161e-02 -8.66451167e-02\n",
      "  0.00000000e+00 -0.00000000e+00 -1.71058284e-02 -1.73949967e-01\n",
      " -1.13415193e-01  3.97065469e-01 -3.01812253e-01 -1.97414053e+00\n",
      "  0.00000000e+00  6.63390184e-01 -2.30785762e-01  2.48238629e+00\n",
      " -0.00000000e+00 -0.00000000e+00  0.00000000e+00 -1.15786644e-01\n",
      "  0.00000000e+00 -0.00000000e+00 -2.47359289e+00 -2.98786086e+00\n",
      " -6.80022616e+00  9.47380190e-01  0.00000000e+00  1.96626202e+00\n",
      "  0.00000000e+00  0.00000000e+00  0.00000000e+00 -0.00000000e+00\n",
      " -0.00000000e+00 -0.00000000e+00 -0.00000000e+00 -0.00000000e+00\n",
      "  0.00000000e+00 -0.00000000e+00 -0.00000000e+00 -0.00000000e+00\n",
      " -0.00000000e+00 -0.00000000e+00 -1.77467513e+00  0.00000000e+00\n",
      "  0.00000000e+00 -0.00000000e+00  0.00000000e+00  0.00000000e+00\n",
      "  0.00000000e+00  0.00000000e+00  0.00000000e+00 -0.00000000e+00\n",
      " -0.00000000e+00 -0.00000000e+00  0.00000000e+00  0.00000000e+00\n",
      "  1.77774113e-01 -0.00000000e+00  0.00000000e+00 -0.00000000e+00\n",
      "  0.00000000e+00  0.00000000e+00  0.00000000e+00  0.00000000e+00\n",
      "  0.00000000e+00 -0.00000000e+00  0.00000000e+00 -0.00000000e+00\n",
      " -0.00000000e+00 -8.81690181e-02 -0.00000000e+00  5.84668615e-03\n",
      "  0.00000000e+00  0.00000000e+00 -1.64521950e-01  4.77374396e-02\n",
      "  2.67629696e+00  7.34652352e+00]\n"
     ]
    },
    {
     "name": "stderr",
     "output_type": "stream",
     "text": [
      "D:\\Anaconda3\\lib\\site-packages\\sklearn\\linear_model\\coordinate_descent.py:491: ConvergenceWarning: Objective did not converge. You might want to increase the number of iterations. Fitting data with very small alpha may cause precision problems.\n",
      "  ConvergenceWarning)\n"
     ]
    }
   ],
   "source": [
    "model = Lasso()\n",
    "model.fit(x_train,y_train)\n",
    "print(len(model.coef_))\n",
    "\n",
    "print(model.coef_)"
   ]
  },
  {
   "cell_type": "code",
   "execution_count": 30,
   "metadata": {},
   "outputs": [
    {
     "name": "stdout",
     "output_type": "stream",
     "text": [
      "['wood_add_value', 'stone_add_value', 'meat_add_value', 'meat_reduce_value', 'magic_add_value', 'bd_training_hut_level', 'bd_healing_lodge_level', 'bd_warehouse_level', 'bd_market_level', 'bd_hero_gacha_level', 'bd_hero_strengthen_level', 'sr_scout_level', 'sr_training_speed_level', 'sr_cavalry_atk_level', 'sr_infantry_tier_3_level', 'sr_cavalry_tier_3_level', 'sr_shaman_tier_3_level', 'sr_troop_defense_level', 'sr_infantry_def_level', 'sr_cavalry_def_level', 'sr_shaman_def_level', 'sr_infantry_hp_level', 'sr_cavalry_hp_level', 'sr_shaman_hp_level', 'sr_infantry_tier_4_level', 'sr_cavalry_tier_4_level', 'sr_shaman_tier_4_level', 'sr_troop_attack_level', 'sr_hide_storage_level', 'sr_troop_consumption_level', 'sr_rss_a_prod_levell', 'sr_rss_b_prod_level', 'sr_rss_c_prod_level', 'sr_rss_d_prod_level', 'sr_rss_a_gather_level', 'sr_rss_b_gather_level', 'sr_rss_c_gather_level', 'sr_rss_d_gather_level', 'sr_troop_load_level', 'sr_rss_e_gather_level', 'sr_rss_e_prod_level', 'sr_outpost_tier_2_level', 'sr_healing_space_level', 'sr_gathering_hunter_buff_level', 'sr_healing_speed_level', 'sr_outpost_tier_3_level', 'sr_alliance_march_speed_level', 'sr_pvp_march_speed_level', 'sr_gathering_march_speed_level', 'sr_outpost_tier_4_level', 'sr_guest_troop_capacity_level', 'sr_march_size_level', 'sr_rss_help_bonus_level', 'pvp_lanch_count', 'pve_battle_count', 'pve_lanch_count']\n",
      "56\n"
     ]
    }
   ],
   "source": [
    "none_mean = []\n",
    "for i in range(len(model.coef_)):\n",
    "    if abs(model.coef_[i]) < 1e-06:\n",
    "        none_mean.append(x_train.columns[i])\n",
    "        \n",
    "print(none_mean)\n",
    "print(len(none_mean))"
   ]
  },
  {
   "cell_type": "code",
   "execution_count": 31,
   "metadata": {},
   "outputs": [],
   "source": [
    "x_train_final = x_train.drop(none_mean,axis=1)"
   ]
  },
  {
   "cell_type": "code",
   "execution_count": 34,
   "metadata": {},
   "outputs": [],
   "source": [
    "X_train,X_test,Y_train,Y_test = train_test_split(x_train_final,y_train,\n",
    "                                                 test_size=0.2,random_state=0)\n",
    "X_test_7days = X_test['pay_price'].tolist()"
   ]
  },
  {
   "cell_type": "code",
   "execution_count": 37,
   "metadata": {},
   "outputs": [],
   "source": [
    "scaler = StandardScaler(with_mean=False).fit(X_train.values)\n",
    "X_train  =scaler.transform(X_train.values)\n",
    "X_test = scaler.transform(X_test.values)"
   ]
  },
  {
   "cell_type": "code",
   "execution_count": 38,
   "metadata": {},
   "outputs": [
    {
     "data": {
      "text/plain": [
       "['train_model.m']"
      ]
     },
     "execution_count": 38,
     "metadata": {},
     "output_type": "execute_result"
    }
   ],
   "source": [
    "SGDModel = GradientBoostingRegressor(n_estimators=1000,learning_rate=0.01)\n",
    "SGDModel.fit(X_train,Y_train.values.ravel())\n",
    "joblib.dump(SGDModel,'train_model.m')"
   ]
  },
  {
   "cell_type": "code",
   "execution_count": 40,
   "metadata": {},
   "outputs": [],
   "source": [
    "y_pred = SGDModel.predict(X_test)"
   ]
  },
  {
   "cell_type": "code",
   "execution_count": 43,
   "metadata": {},
   "outputs": [],
   "source": [
    "for i in range(len(y_pred)):\n",
    "    if y_pred[i] < X_test_7days[i]:\n",
    "        y_pred[i] = X_test_7days[i]"
   ]
  },
  {
   "cell_type": "code",
   "execution_count": 45,
   "metadata": {},
   "outputs": [],
   "source": [
    "for i in range(len(y_pred)):\n",
    "    if y_pred[i] < 0:\n",
    "        y_pred[i] = 0"
   ]
  },
  {
   "cell_type": "code",
   "execution_count": 46,
   "metadata": {
    "scrolled": true
   },
   "outputs": [
    {
     "name": "stdout",
     "output_type": "stream",
     "text": [
      "RMSE 200.43\n",
      "R^2 0.37\n"
     ]
    }
   ],
   "source": [
    "print('RMSE %.2f' % mean_squared_error(Y_test,y_pred)**0.5)\n",
    "\n",
    "print('R^2 %.2f' % r2_score(Y_test,y_pred))"
   ]
  },
  {
   "cell_type": "markdown",
   "metadata": {},
   "source": [
    "🔮`Making Prediction`"
   ]
  },
  {
   "cell_type": "code",
   "execution_count": 47,
   "metadata": {},
   "outputs": [
    {
     "data": {
      "text/plain": [
       "(828934, 108)"
      ]
     },
     "execution_count": 47,
     "metadata": {},
     "output_type": "execute_result"
    }
   ],
   "source": [
    "data1 = pd.read_csv('tap_fun_test.csv',parse_dates=True)\n",
    "data1.shape"
   ]
  },
  {
   "cell_type": "code",
   "execution_count": 48,
   "metadata": {},
   "outputs": [],
   "source": [
    "#for avgonlinetime<12, we use 'pay_price' only to make prediction\n",
    "data_test1 =copy.copy(data1[data1['avg_online_minutes']<12])\n",
    "data_test2 = copy.copy(data1[data1['avg_online_minutes']>=12])\n",
    "data_test2_7days  = data_test2['pay_price'].tolist()"
   ]
  },
  {
   "cell_type": "code",
   "execution_count": 52,
   "metadata": {},
   "outputs": [
    {
     "name": "stderr",
     "output_type": "stream",
     "text": [
      "D:\\Anaconda3\\lib\\site-packages\\pandas\\core\\frame.py:3778: SettingWithCopyWarning: \n",
      "A value is trying to be set on a copy of a slice from a DataFrame\n",
      "\n",
      "See the caveats in the documentation: http://pandas.pydata.org/pandas-docs/stable/indexing.html#indexing-view-versus-copy\n",
      "  return super(DataFrame, self).rename(**kwargs)\n"
     ]
    }
   ],
   "source": [
    "data_test_part1 = data_test1[['user_id','pay_price']]\n",
    "data_test_part1.rename(columns={'pay_price':'prediction_pay_price'},inplace=True)\n",
    "data_test_part1.to_csv('tap_fun_result_part1.csv')"
   ]
  },
  {
   "cell_type": "code",
   "execution_count": 53,
   "metadata": {},
   "outputs": [],
   "source": [
    "data_test2_id = data_test2['user_id'].values\n",
    "data_test2_id_final = pd.DataFrame(data_test2_id,columns={'user_id'})\n",
    "data_test2  =data_test2.drop(['user_id','register_time'],axis=1)"
   ]
  },
  {
   "cell_type": "code",
   "execution_count": 54,
   "metadata": {},
   "outputs": [],
   "source": [
    "data_test2_final = data_test2.drop(none_mean,axis=1)\n",
    "data_test2_final = scaler.transform(data_test2_final.values)\n",
    "data_test2_pred = SGDModel.predict(data_test2_final)"
   ]
  },
  {
   "cell_type": "code",
   "execution_count": 55,
   "metadata": {},
   "outputs": [],
   "source": [
    "for i in range(len(data_test2_pred)):\n",
    "    if data_test2_pred[i] < data_test2_7days[i]:\n",
    "        data_test2_pred[i] = data_test2_7days[i]\n",
    "        \n",
    "for i in range(len(data_test2_pred)):\n",
    "    if data_test2_pred[i] < 0:\n",
    "        data_test2_pred[i] = 0"
   ]
  },
  {
   "cell_type": "code",
   "execution_count": 56,
   "metadata": {},
   "outputs": [],
   "source": [
    "data_test2_pred_howmuch = pd.DataFrame(data_test2_pred,columns={'prediction_pay_price'})"
   ]
  },
  {
   "cell_type": "code",
   "execution_count": 57,
   "metadata": {},
   "outputs": [],
   "source": [
    "data_test2_result = pd.concat([data_test2_id_final,data_test2_pred_howmuch],axis=1)\n",
    "data_test2_result.to_csv('tap_fun_result_part2.csv')"
   ]
  },
  {
   "cell_type": "code",
   "execution_count": 58,
   "metadata": {},
   "outputs": [],
   "source": [
    "pred_part1 = pd.read_csv('tap_fun_result_part1.csv',index_col=0,parse_dates=True)\n",
    "pred_part2 = pd.read_csv('tap_fun_result_part2.csv',index_col=0,parse_dates=True)"
   ]
  },
  {
   "cell_type": "code",
   "execution_count": 59,
   "metadata": {},
   "outputs": [
    {
     "data": {
      "text/plain": [
       "(828934, 2)"
      ]
     },
     "execution_count": 59,
     "metadata": {},
     "output_type": "execute_result"
    }
   ],
   "source": [
    "pred = pred_part1.append(pred_part2)\n",
    "pred.shape"
   ]
  },
  {
   "cell_type": "code",
   "execution_count": 60,
   "metadata": {},
   "outputs": [],
   "source": [
    "pred.to_csv('pred_result.csv',index=False)"
   ]
  },
  {
   "cell_type": "markdown",
   "metadata": {},
   "source": [
    "> This is such a great predictive model as very 'simple'. I want to extend this model to gain some insights as well as to check is there any risk if apply this model to production environment."
   ]
  },
  {
   "cell_type": "markdown",
   "metadata": {},
   "source": [
    "# Performance"
   ]
  },
  {
   "cell_type": "code",
   "execution_count": 89,
   "metadata": {
    "scrolled": true
   },
   "outputs": [
    {
     "data": {
      "text/plain": [
       "Text(0, 0.5, 'Predict')"
      ]
     },
     "execution_count": 89,
     "metadata": {},
     "output_type": "execute_result"
    },
    {
     "data": {
      "image/png": "[encoded data removed]",
      "text/plain": [
       "<Figure size 720x720 with 1 Axes>"
      ]
     },
     "metadata": {},
     "output_type": "display_data"
    }
   ],
   "source": [
    "%matplotlib inline\n",
    "import matplotlib.pylab as plt\n",
    "plt.rcParams['figure.figsize'] = 10, 10\n",
    "plt.rcParams['axes.grid'] = True\n",
    "plt.gray()\n",
    "y_range = np.linspace(np.min(y_pred), np.max(y_pred))[:, np.newaxis]\n",
    "plt.scatter(y_test,y_pred,alpha=0.5)\n",
    "plt.plot(y_range,y_range,'r--')\n",
    "plt.xlabel('Observed')\n",
    "plt.ylabel('Predict')"
   ]
  },
  {
   "cell_type": "markdown",
   "metadata": {},
   "source": [
    "# GradientBoostingRegressor"
   ]
  },
  {
   "attachments": {},
   "cell_type": "markdown",
   "metadata": {},
   "source": [
    "- How would changes to a datapoint affect my model’s prediction? \n",
    "- Does it perform differently for various groups–for example, historically marginalized people? \n",
    "- How diverse is the dataset I am testing my model on?"
   ]
  }
 ],
 "metadata": {
  "kernelspec": {
   "display_name": "Python 3",
   "language": "python",
   "name": "python3"
  },
  "language_info": {
   "codemirror_mode": {
    "name": "ipython",
    "version": 3
   },
   "file_extension": ".py",
   "mimetype": "text/x-python",
   "name": "python",
   "nbconvert_exporter": "python",
   "pygments_lexer": "ipython3",
   "version": "3.6.5"
  },
  "latex_envs": {
   "LaTeX_envs_menu_present": true,
   "autoclose": false,
   "autocomplete": true,
   "bibliofile": "biblio.bib",
   "cite_by": "apalike",
   "current_citInitial": 1,
   "eqLabelWithNumbers": true,
   "eqNumInitial": 1,
   "hotkeys": {
    "equation": "Ctrl-E",
    "itemize": "Ctrl-I"
   },
   "labels_anchors": false,
   "latex_user_defs": false,
   "report_style_numbering": false,
   "user_envs_cfg": false
  },
  "toc": {
   "base_numbering": 1,
   "nav_menu": {},
   "number_sections": true,
   "sideBar": true,
   "skip_h1_title": false,
   "title_cell": "Table of Contents",
   "title_sidebar": "Contents",
   "toc_cell": false,
   "toc_position": {},
   "toc_section_display": true,
   "toc_window_display": false
  }
 },
 "nbformat": 4,
 "nbformat_minor": 2
}
